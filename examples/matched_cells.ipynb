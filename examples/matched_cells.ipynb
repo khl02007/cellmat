{
 "cells": [
  {
   "cell_type": "code",
   "execution_count": 1,
   "id": "cc6b860a-48ac-4fa1-b525-15463f794345",
   "metadata": {
    "tags": []
   },
   "outputs": [
    {
     "name": "stderr",
     "output_type": "stream",
     "text": [
      "[2023-06-09 22:57:39,115][INFO]: Connecting kyu@lmf-db.cin.ucsf.edu:3306\n",
      "[2023-06-09 22:57:39,165][INFO]: Connected kyu@lmf-db.cin.ucsf.edu:3306\n"
     ]
    }
   ],
   "source": [
    "import cellmat"
   ]
  },
  {
   "cell_type": "code",
   "execution_count": 2,
   "id": "26020b7e-6551-4e0f-acfc-2eeb78bef128",
   "metadata": {
    "tags": []
   },
   "outputs": [],
   "source": [
    "nwb_file_name1 = \"L520230526_.nwb\"\n",
    "nwb_file_name2 = \"L520230531_.nwb\"\n",
    "\n",
    "shank_id = 0"
   ]
  },
  {
   "cell_type": "code",
   "execution_count": 3,
   "id": "257a18fb-c8dc-4472-a68e-2578557b766e",
   "metadata": {
    "tags": []
   },
   "outputs": [
    {
     "name": "stdout",
     "output_type": "stream",
     "text": [
      "From https://github.com/LorenFrankLab/sorting-curations\n",
      " * branch            main       -> FETCH_HEAD\n",
      "Already up to date.\n"
     ]
    },
    {
     "data": {
      "application/vnd.jupyter.widget-view+json": {
       "model_id": "22a130f8c2224ba8be65a0ab4886676f",
       "version_major": 2,
       "version_minor": 0
      },
      "text/plain": [
       "extract waveforms memmap:   0%|          | 0/2923 [00:00<?, ?it/s]"
      ]
     },
     "metadata": {},
     "output_type": "display_data"
    },
    {
     "data": {
      "application/vnd.jupyter.widget-view+json": {
       "model_id": "bc97164ac459411ab64747171add3501",
       "version_major": 2,
       "version_minor": 0
      },
      "text/plain": [
       "extract waveforms memmap:   0%|          | 0/3023 [00:00<?, ?it/s]"
      ]
     },
     "metadata": {},
     "output_type": "display_data"
    }
   ],
   "source": [
    "matched_cell_id = cellmat.get_matched_cells(nwb_file_name1,\n",
    "                                            nwb_file_name2,\n",
    "                                            shank_id)"
   ]
  },
  {
   "cell_type": "code",
   "execution_count": 6,
   "id": "7a040265-828e-4c04-9e3e-7ab579c3da59",
   "metadata": {
    "tags": []
   },
   "outputs": [
    {
     "data": {
      "text/plain": [
       "{23: 23, 37: 33, 39: 34, 41: 35, 50: 36, 53: 49, 56: 42, 58: 47, 62: 54}"
      ]
     },
     "execution_count": 6,
     "metadata": {},
     "output_type": "execute_result"
    }
   ],
   "source": [
    "matched_cell_id"
   ]
  },
  {
   "cell_type": "code",
   "execution_count": null,
   "id": "3f86ef46-801e-4f93-a06d-1737ec3d99ea",
   "metadata": {},
   "outputs": [],
   "source": []
  },
  {
   "cell_type": "code",
   "execution_count": null,
   "id": "293a62e9-13c8-4748-a7b1-8a8c4015390b",
   "metadata": {},
   "outputs": [],
   "source": []
  }
 ],
 "metadata": {
  "kernelspec": {
   "display_name": "Python 3 (ipykernel)",
   "language": "python",
   "name": "python3"
  },
  "language_info": {
   "codemirror_mode": {
    "name": "ipython",
    "version": 3
   },
   "file_extension": ".py",
   "mimetype": "text/x-python",
   "name": "python",
   "nbconvert_exporter": "python",
   "pygments_lexer": "ipython3",
   "version": "3.9.13"
  }
 },
 "nbformat": 4,
 "nbformat_minor": 5
}
