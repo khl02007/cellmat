{
 "cells": [
  {
   "cell_type": "code",
   "execution_count": 1,
   "id": "cb999108-b1bd-48d7-b58b-6be25dbf6dda",
   "metadata": {
    "tags": []
   },
   "outputs": [],
   "source": [
    "import spikeinterface.full as si\n",
    "import matplotlib.pyplot as plt\n",
    "import numpy as np\n",
    "import json"
   ]
  },
  {
   "cell_type": "code",
   "execution_count": 2,
   "id": "ce7389de-cea3-4a9f-bfdc-2e9eb9ad947f",
   "metadata": {
    "tags": []
   },
   "outputs": [
    {
     "name": "stderr",
     "output_type": "stream",
     "text": [
      "[2023-06-09 17:11:31,472][INFO]: Connecting kyu@lmf-db.cin.ucsf.edu:3306\n",
      "[2023-06-09 17:11:31,530][INFO]: Connected kyu@lmf-db.cin.ucsf.edu:3306\n"
     ]
    }
   ],
   "source": [
    "import spyglass.spikesorting as sgs"
   ]
  },
  {
   "cell_type": "markdown",
   "id": "39d11653-156e-4406-8c50-46fae21b451e",
   "metadata": {},
   "source": [
    "helper functions"
   ]
  },
  {
   "cell_type": "code",
   "execution_count": 3,
   "id": "7879cfec-3fcf-4e1f-9c2e-442fef6c797d",
   "metadata": {
    "tags": []
   },
   "outputs": [],
   "source": [
    "def get_recording(nwb_file_name, shank_id):\n",
    "    recording_path = (sgs.SpikeSortingRecording & {\"nwb_file_name\":nwb_file_name,\n",
    "                                                   \"sort_group_id\":shank_id}).fetch(\"recording_path\")[0]\n",
    "    recording = si.load_extractor(recording_path)\n",
    "    if recording.get_num_segments()>1:\n",
    "        recording = si.concatenate_recordings([recording])\n",
    "    return recording\n",
    "\n",
    "def get_sorting(nwb_file_name, shank_id):\n",
    "    sorting_path = (sgs.SpikeSorting & {\"nwb_file_name\":nwb_file_name,\n",
    "                                        \"sort_group_id\":shank_id}).fetch(\"sorting_path\")[0]\n",
    "    sorting = si.load_extractor(sorting_path)\n",
    "\n",
    "    return sorting\n",
    "\n",
    "def open_json(path):\n",
    "    with open(path, 'r') as f:\n",
    "        c = json.load(f)\n",
    "    return c\n",
    "\n",
    "def get_curation_labels(nwb_file_name, shank_id, path_to_sorting_curation_repo):\n",
    "    curation_uri = (sgs.CurationFigurl & {\"nwb_file_name\": nwb_file_name,\n",
    "                                          \"sort_group_id\":shank_id}).fetch(\"new_curation_uri\")[0]\n",
    "    local_path = curation_uri.replace('gh://LorenFrankLab/sorting-curations/main/', path_to_sorting_curation_repo)\n",
    "    curation_labels = open_json(local_path)\n",
    "    return curation_labels\n",
    "\n",
    "def get_units_to_remove(curation_labels):\n",
    "    exclude_labels = ['noise', 'reject', 'mua']\n",
    "    units_to_remove = []\n",
    "    for unit_id, labels in curation_labels['labelsByUnit'].items():\n",
    "        if np.sum([i in exclude_labels for i in labels])>0:\n",
    "            units_to_remove.append(int(unit_id))\n",
    "    return units_to_remove\n",
    "\n",
    "def curate_sorting(sorting, curation_labels, skip_merge=True):\n",
    "    if curation_labels['labelsByUnit']:\n",
    "        units_to_remove = get_units_to_remove(curation_labels)\n",
    "        sorting = sorting.remove_units(units_to_remove)\n",
    "    if curation_labels['mergeGroups'] and skip_merge==False:\n",
    "        sorting = si.MergeUnitsSorting(parent_sorting=sorting,\n",
    "                                       units_to_merge=curation_labels['mergeGroups'],\n",
    "                                      )\n",
    "    return sorting"
   ]
  },
  {
   "cell_type": "markdown",
   "id": "f2486195-1e60-4e4f-9eac-29f250aab51c",
   "metadata": {},
   "source": [
    "Define NWB file names"
   ]
  },
  {
   "cell_type": "code",
   "execution_count": 4,
   "id": "bbbf42d8-0876-4813-ae3b-3bffb75d08dc",
   "metadata": {
    "tags": []
   },
   "outputs": [],
   "source": [
    "nwb_file_name1 = \"L520230526_.nwb\"\n",
    "nwb_file_name2 = \"L520230531_.nwb\"\n",
    "\n",
    "shank_id = 0"
   ]
  },
  {
   "cell_type": "markdown",
   "id": "59367e3d-ff62-4a50-9b54-eb2f3ae96781",
   "metadata": {},
   "source": [
    "Load recording"
   ]
  },
  {
   "cell_type": "code",
   "execution_count": 5,
   "id": "fff066b7-eadf-4630-8324-0eda04a9bb5f",
   "metadata": {
    "tags": []
   },
   "outputs": [],
   "source": [
    "recording1 = get_recording(nwb_file_name1, shank_id)\n",
    "recording2 = get_recording(nwb_file_name2, shank_id)"
   ]
  },
  {
   "cell_type": "markdown",
   "id": "bc4fb7e4-bea1-4506-981c-00b051d7822a",
   "metadata": {},
   "source": [
    "Load sorting"
   ]
  },
  {
   "cell_type": "code",
   "execution_count": 6,
   "id": "b4b235b7-6ff2-4be0-b17b-8158edd9ace1",
   "metadata": {
    "tags": []
   },
   "outputs": [],
   "source": [
    "sorting1 = get_sorting(nwb_file_name1, shank_id)\n",
    "sorting2 = get_sorting(nwb_file_name2, shank_id)"
   ]
  },
  {
   "cell_type": "markdown",
   "id": "868aae6d-2a71-448d-8de6-d6826da639e8",
   "metadata": {},
   "source": [
    "get manual curation labels"
   ]
  },
  {
   "cell_type": "code",
   "execution_count": 7,
   "id": "161035e1-cc78-4a78-ac1d-d8104be86ce5",
   "metadata": {
    "tags": []
   },
   "outputs": [
    {
     "name": "stdout",
     "output_type": "stream",
     "text": [
      "From https://github.com/LorenFrankLab/sorting-curations\n",
      " * branch            main       -> FETCH_HEAD\n",
      "Already up to date.\n"
     ]
    }
   ],
   "source": [
    "# change this to path on your system\n",
    "!cd ~/repos/sorting-curations && git pull origin main\n",
    "path_to_sorting_curation_repo = '/home/kyu/repos/sorting-curations/'"
   ]
  },
  {
   "cell_type": "code",
   "execution_count": 8,
   "id": "819ce914-1051-4c21-8034-9f8b073a5795",
   "metadata": {
    "tags": []
   },
   "outputs": [],
   "source": [
    "curation_labels1 = get_curation_labels(nwb_file_name1, shank_id, path_to_sorting_curation_repo)\n",
    "curation_labels2 = get_curation_labels(nwb_file_name2, shank_id, path_to_sorting_curation_repo)"
   ]
  },
  {
   "cell_type": "markdown",
   "id": "85c93c2c-4943-400b-8320-8c4a60f9d5a7",
   "metadata": {},
   "source": [
    "apply curation"
   ]
  },
  {
   "cell_type": "code",
   "execution_count": 9,
   "id": "2ffa265b-1916-45f1-8d65-8dd44e3e67c7",
   "metadata": {
    "tags": []
   },
   "outputs": [],
   "source": [
    "sorting1 = curate_sorting(sorting1, curation_labels1)\n",
    "sorting2 = curate_sorting(sorting2, curation_labels2)"
   ]
  },
  {
   "cell_type": "markdown",
   "id": "94d46b75-9ad6-4ab8-9f4f-7c593283fbbf",
   "metadata": {},
   "source": [
    "extract waveforms"
   ]
  },
  {
   "cell_type": "code",
   "execution_count": 10,
   "id": "91f7fde4-e805-4c74-a17c-c4c71b8b2cbc",
   "metadata": {
    "tags": []
   },
   "outputs": [
    {
     "data": {
      "application/vnd.jupyter.widget-view+json": {
       "model_id": "64734ab8a5b643b0b6b6899a71a3ebb8",
       "version_major": 2,
       "version_minor": 0
      },
      "text/plain": [
       "extract waveforms memmap:   0%|          | 0/2923 [00:00<?, ?it/s]"
      ]
     },
     "metadata": {},
     "output_type": "display_data"
    }
   ],
   "source": [
    "waveform_extractor1 = si.extract_waveforms(recording1, sorting1, folder=\"/tmp/we1\",\n",
    "                                           ms_before=1.0, ms_after=1.0,\n",
    "                                           max_spikes_per_unit=5000,\n",
    "                                           overwrite=True,\n",
    "                                           seed=47,\n",
    "                                           dtype=np.float32\n",
    "                                          )"
   ]
  },
  {
   "cell_type": "code",
   "execution_count": 11,
   "id": "70a65cb3-c52e-42f3-ab4d-a84fe9baabfd",
   "metadata": {
    "tags": []
   },
   "outputs": [
    {
     "data": {
      "application/vnd.jupyter.widget-view+json": {
       "model_id": "96f5527d748f45ffbe0497a117c75c64",
       "version_major": 2,
       "version_minor": 0
      },
      "text/plain": [
       "extract waveforms memmap:   0%|          | 0/3023 [00:00<?, ?it/s]"
      ]
     },
     "metadata": {},
     "output_type": "display_data"
    }
   ],
   "source": [
    "waveform_extractor2 = si.extract_waveforms(recording2, sorting2, folder=\"/tmp/we2\",\n",
    "                                           ms_before=1.0, ms_after=1.0,\n",
    "                                           max_spikes_per_unit=5000,\n",
    "                                           overwrite=True,\n",
    "                                           seed=47,\n",
    "                                           dtype=np.float32\n",
    "                                          )"
   ]
  },
  {
   "cell_type": "markdown",
   "id": "0e250196-ce05-4040-97e0-f3604557e63a",
   "metadata": {},
   "source": [
    "Quantify match"
   ]
  },
  {
   "cell_type": "markdown",
   "id": "ce2ec12c-eb18-4f9d-8a22-5517a9460e7e",
   "metadata": {},
   "source": [
    "Method 1: clustering contamination in PC space"
   ]
  },
  {
   "cell_type": "code",
   "execution_count": 12,
   "id": "7b166400-8bbd-4534-b235-a1db4251f58f",
   "metadata": {
    "tags": []
   },
   "outputs": [],
   "source": [
    "from sklearn.neighbors import NearestNeighbors\n",
    "from sklearn.decomposition import IncrementalPCA\n",
    "\n",
    "def _compute_contamination(pcs_target_unit, pcs_other_unit, n_neighbors: int):\n",
    "    # get lengths\n",
    "    n_spikes_target = pcs_target_unit.shape[0]\n",
    "    n_spikes_other = pcs_other_unit.shape[0]\n",
    "\n",
    "    # concatenate\n",
    "    pcs_concat = np.concatenate((pcs_target_unit, pcs_other_unit), axis=0)\n",
    "    label_concat = np.concatenate((np.zeros(n_spikes_target), np.ones(n_spikes_other)))\n",
    "\n",
    "    # if n_neighbors is greater than the number of spikes in both clusters, set it to max possible\n",
    "    if n_neighbors > len(label_concat):\n",
    "        n_neighbors_adjusted = len(label_concat) - 1\n",
    "    else:\n",
    "        n_neighbors_adjusted = n_neighbors\n",
    "\n",
    "    _, membership_ind = (\n",
    "        NearestNeighbors(n_neighbors=n_neighbors_adjusted, algorithm=\"auto\").fit(pcs_concat).kneighbors()\n",
    "    )\n",
    "    # print(label_concat[membership_ind[:n_spikes_target]].shape)\n",
    "    target_nn_in_other = np.sum(label_concat[membership_ind[:n_spikes_target]] == 1)\n",
    "\n",
    "    # target_nn_in_target = np.sum(label_concat[membership_ind[:n_spikes_target]] == 0)\n",
    "    # other_nn_in_other = np.sum(label_concat[membership_ind[n_spikes_target:]] == 1)\n",
    "\n",
    "    contamination = target_nn_in_other / (n_spikes_target) / n_neighbors_adjusted\n",
    "\n",
    "    return contamination\n",
    "\n",
    "def compute_nn_distance(waveform_extractor1, waveform_extractor2, radius_um=50, seed=47, n_neighbors=5, n_spikes=1000, n_components=5):\n",
    "    \n",
    "    rng = np.random.default_rng(seed=seed)\n",
    "    \n",
    "    sparsity1 = si.compute_sparsity(waveform_extractor1, method='radius', radius_um=radius_um)\n",
    "    sparsity2 = si.compute_sparsity(waveform_extractor2, method='radius', radius_um=radius_um)\n",
    "    \n",
    "    output = np.zeros((waveform_extractor1.sorting.get_num_units(),\n",
    "                       waveform_extractor2.sorting.get_num_units()))\n",
    "    \n",
    "    all_channels = waveform_extractor1.recording.get_channel_ids()\n",
    "    # print(all_channels)\n",
    "    assert np.array_equal(waveform_extractor1.recording.get_channel_ids(), waveform_extractor2.recording.get_channel_ids()), \"the waveform extractors are not from the same shanks\"\n",
    "    \n",
    "    for unit_id1 in waveform_extractor1.sorting.get_unit_ids():\n",
    "        waveforms_unit1 = waveform_extractor1.get_waveforms(unit_id=unit_id1)\n",
    "\n",
    "        for unit_id2 in waveform_extractor2.sorting.get_unit_ids():\n",
    "            waveforms_unit2 = waveform_extractor2.get_waveforms(unit_id=unit_id2)\n",
    "            \n",
    "            n_spikes = np.min([waveforms_unit1.shape[0], waveforms_unit2.shape[0], n_spikes])\n",
    "            \n",
    "            channels_with_signal = np.concatenate((sparsity1.unit_id_to_channel_ids[unit_id1], sparsity2.unit_id_to_channel_ids[unit_id2]))\n",
    "            channels_with_signal = np.unique(channels_with_signal)\n",
    "            # print(sparsity1.unit_id_to_channel_ids[unit_id1])\n",
    "            # print(sparsity2.unit_id_to_channel_ids[unit_id2])\n",
    "            \n",
    "            indices = np.where(np.isin(all_channels, channels_with_signal))[0]\n",
    "            # print(indices)\n",
    "            \n",
    "            waveforms_unit1_sparse = waveforms_unit1[:,:,indices]\n",
    "            waveforms_unit2_sparse = waveforms_unit2[:,:,indices]\n",
    "\n",
    "            spike_ind1 = rng.choice(waveforms_unit1_sparse.shape[0], size=n_spikes, replace=False)\n",
    "            spike_ind2 = rng.choice(waveforms_unit2_sparse.shape[0], size=n_spikes, replace=False)\n",
    "\n",
    "            waveforms_unit1_sparse = waveforms_unit1_sparse[spike_ind1]\n",
    "            waveforms_unit2_sparse = waveforms_unit2_sparse[spike_ind2]\n",
    "\n",
    "            waveforms_unit1_sparse = np.reshape(waveforms_unit1_sparse, (n_spikes,-1))\n",
    "            waveforms_unit2_sparse = np.reshape(waveforms_unit2_sparse, (n_spikes,-1))\n",
    "\n",
    "            # concatenate\n",
    "            waveforms_concat = np.concatenate((waveforms_unit1_sparse, waveforms_unit2_sparse), axis=0)\n",
    "            \n",
    "            pca = IncrementalPCA(n_components=n_components)\n",
    "            pca.partial_fit(waveforms_concat)\n",
    "            projected_waveforms = pca.transform(waveforms_concat)\n",
    "            \n",
    "            output[waveform_extractor1.sorting.get_unit_ids()==unit_id1,\n",
    "                   waveform_extractor2.sorting.get_unit_ids()==unit_id2] = _compute_contamination(projected_waveforms[:n_spikes], projected_waveforms[n_spikes:], n_neighbors)\n",
    "    return output"
   ]
  },
  {
   "cell_type": "code",
   "execution_count": 13,
   "id": "feffbc81-7cba-4e4a-bb41-ee41e4aba0f1",
   "metadata": {
    "tags": []
   },
   "outputs": [],
   "source": [
    "nn_distance = compute_nn_distance(waveform_extractor1, waveform_extractor2, radius_um=50, n_neighbors=5, n_spikes=2000, n_components=4)"
   ]
  },
  {
   "cell_type": "code",
   "execution_count": 62,
   "id": "b2718151-b1f6-4076-85e2-296c3c250ee1",
   "metadata": {
    "tags": []
   },
   "outputs": [],
   "source": [
    "nn_distance_threshold = 0.25"
   ]
  },
  {
   "cell_type": "code",
   "execution_count": 39,
   "id": "90aea19e-56e6-4e5c-833f-eb6158d2b744",
   "metadata": {
    "tags": []
   },
   "outputs": [
    {
     "data": {
      "text/plain": [
       "<matplotlib.image.AxesImage at 0x7f8120f8de20>"
      ]
     },
     "execution_count": 39,
     "metadata": {},
     "output_type": "execute_result"
    },
    {
     "data": {
      "image/png": "[encoded data removed]",
      "text/plain": [
       "<Figure size 432x288 with 1 Axes>"
      ]
     },
     "metadata": {
      "needs_background": "light"
     },
     "output_type": "display_data"
    }
   ],
   "source": [
    "plt.imshow(nn_distance)"
   ]
  },
  {
   "cell_type": "code",
   "execution_count": 63,
   "id": "8238b90c-64d7-4525-9758-01656a1fc0a4",
   "metadata": {
    "tags": []
   },
   "outputs": [
    {
     "data": {
      "text/plain": [
       "<matplotlib.image.AxesImage at 0x7f809a041b80>"
      ]
     },
     "execution_count": 63,
     "metadata": {},
     "output_type": "execute_result"
    },
    {
     "data": {
      "image/png": "[encoded data removed]",
      "text/plain": [
       "<Figure size 432x288 with 1 Axes>"
      ]
     },
     "metadata": {
      "needs_background": "light"
     },
     "output_type": "display_data"
    }
   ],
   "source": [
    "plt.imshow(nn_distance>nn_distance_threshold)"
   ]
  },
  {
   "cell_type": "code",
   "execution_count": 41,
   "id": "064f2d4c-4e32-4d03-a825-f5f50df7e532",
   "metadata": {
    "tags": []
   },
   "outputs": [],
   "source": [
    "def count_unique_ones(matrix):\n",
    "    rows = len(matrix)\n",
    "    cols = len(matrix[0])\n",
    "\n",
    "    row_counts = [0] * rows\n",
    "    col_counts = [0] * cols\n",
    "\n",
    "    # Count the number of 1s in each row and column\n",
    "    for i in range(rows):\n",
    "        for j in range(cols):\n",
    "            if matrix[i][j] == 1:\n",
    "                row_counts[i] += 1\n",
    "                col_counts[j] += 1\n",
    "\n",
    "    unique_ones = 0\n",
    "\n",
    "    # Count the number of 1s that are the only 1 in both row and column\n",
    "    for i in range(rows):\n",
    "        for j in range(cols):\n",
    "            if matrix[i][j] == 1 and row_counts[i] == 1 and col_counts[j] == 1:\n",
    "                unique_ones += 1\n",
    "\n",
    "    return unique_ones\n"
   ]
  },
  {
   "cell_type": "code",
   "execution_count": 45,
   "id": "6f0acba5-a3a5-4cc3-b3b0-692cba213536",
   "metadata": {
    "tags": []
   },
   "outputs": [
    {
     "data": {
      "text/plain": [
       "[<matplotlib.lines.Line2D at 0x7f809a47a250>]"
      ]
     },
     "execution_count": 45,
     "metadata": {},
     "output_type": "execute_result"
    },
    {
     "data": {
      "image/png": "[encoded data removed]",
      "text/plain": [
       "<Figure size 432x288 with 1 Axes>"
      ]
     },
     "metadata": {
      "needs_background": "light"
     },
     "output_type": "display_data"
    }
   ],
   "source": [
    "t = np.arange(0,1,0.02)\n",
    "k = []\n",
    "for i in t:\n",
    "    k.append(count_unique_ones(nn_distance>i))\n",
    "    \n",
    "plt.plot(t,k)"
   ]
  },
  {
   "cell_type": "code",
   "execution_count": 37,
   "id": "d7b18ca0-741a-4130-b47a-5de2dc45139d",
   "metadata": {
    "tags": []
   },
   "outputs": [
    {
     "data": {
      "text/plain": [
       "7"
      ]
     },
     "execution_count": 37,
     "metadata": {},
     "output_type": "execute_result"
    }
   ],
   "source": [
    "count_unique_ones(nn_distance>nn_distance_threshold)"
   ]
  },
  {
   "cell_type": "markdown",
   "id": "453cf235-2936-4fbc-951f-05e05bf01b09",
   "metadata": {},
   "source": [
    "Method 2: cosine similarity of mean waveforms at channels with signficant signal"
   ]
  },
  {
   "cell_type": "code",
   "execution_count": 18,
   "id": "0bfa22fb-5e7f-4293-93af-e9dc0e4f76d8",
   "metadata": {
    "tags": []
   },
   "outputs": [],
   "source": [
    "import sklearn.metrics.pairwise\n",
    "\n",
    "def compute_cosine_similarity(waveform_extractor1, waveform_extractor2, radius_um=50):\n",
    "    sparsity1 = si.compute_sparsity(waveform_extractor1, method='radius', radius_um=radius_um)\n",
    "    sparsity2 = si.compute_sparsity(waveform_extractor2, method='radius', radius_um=radius_um)\n",
    "\n",
    "    output = np.zeros((waveform_extractor1.sorting.get_num_units(),\n",
    "                       waveform_extractor2.sorting.get_num_units()))\n",
    "    \n",
    "    all_channels = waveform_extractor1.recording.get_channel_ids()\n",
    "    assert np.array_equal(waveform_extractor1.recording.get_channel_ids(), waveform_extractor2.recording.get_channel_ids()), \"the waveform extractors are not from the same shanks\"\n",
    "    for unit_id1 in waveform_extractor1.sorting.get_unit_ids():\n",
    "        \n",
    "        for unit_id2 in waveform_extractor2.sorting.get_unit_ids():\n",
    "            \n",
    "            channels_with_signal = np.concatenate((sparsity1.unit_id_to_channel_ids[unit_id1], sparsity2.unit_id_to_channel_ids[unit_id2]))\n",
    "            channels_with_signal = np.unique(channels_with_signal)\n",
    "            indices = np.where(np.isin(all_channels, channels_with_signal))[0]\n",
    "\n",
    "            template_unit1 = waveform_extractor1.get_template(unit_id=unit_id1)\n",
    "            template_unit1 = template_unit1[:,indices]\n",
    "            template_unit1 = template_unit1.flatten()\n",
    "            template_unit1 = np.expand_dims(template_unit1, axis=0)\n",
    "            \n",
    "            template_unit2 = waveform_extractor2.get_template(unit_id=unit_id2)\n",
    "            template_unit2 = template_unit2[:,indices]\n",
    "            template_unit2 = template_unit2.flatten()\n",
    "            template_unit2 = np.expand_dims(template_unit2, axis=0)\n",
    "\n",
    "            output[waveform_extractor1.sorting.get_unit_ids()==unit_id1,\n",
    "                   waveform_extractor2.sorting.get_unit_ids()==unit_id2] = sklearn.metrics.pairwise.cosine_similarity(template_unit1, template_unit2)\n",
    "    return output"
   ]
  },
  {
   "cell_type": "code",
   "execution_count": 19,
   "id": "a8c09966-10b6-42e4-9500-95cf2073bb91",
   "metadata": {
    "tags": []
   },
   "outputs": [],
   "source": [
    "cos_sim = compute_cosine_similarity(waveform_extractor1, waveform_extractor2)"
   ]
  },
  {
   "cell_type": "code",
   "execution_count": 60,
   "id": "83a8eb1d-0556-4b4d-9788-53099f8e87b2",
   "metadata": {
    "tags": []
   },
   "outputs": [],
   "source": [
    "cos_sim_threshold = 0.99"
   ]
  },
  {
   "cell_type": "code",
   "execution_count": 48,
   "id": "d8a1d71a-b4c9-469b-9629-88c9c224ceae",
   "metadata": {
    "tags": []
   },
   "outputs": [
    {
     "data": {
      "text/plain": [
       "<matplotlib.image.AxesImage at 0x7f809a43f940>"
      ]
     },
     "execution_count": 48,
     "metadata": {},
     "output_type": "execute_result"
    },
    {
     "data": {
      "image/png": "[encoded data removed]",
      "text/plain": [
       "<Figure size 432x288 with 1 Axes>"
      ]
     },
     "metadata": {
      "needs_background": "light"
     },
     "output_type": "display_data"
    }
   ],
   "source": [
    "plt.imshow(cos_sim)"
   ]
  },
  {
   "cell_type": "code",
   "execution_count": 61,
   "id": "d8936af2-410b-4482-bf81-b5d636447c71",
   "metadata": {
    "tags": []
   },
   "outputs": [
    {
     "data": {
      "text/plain": [
       "<matplotlib.image.AxesImage at 0x7f809a0d4100>"
      ]
     },
     "execution_count": 61,
     "metadata": {},
     "output_type": "execute_result"
    },
    {
     "data": {
      "image/png": "[encoded data removed]",
      "text/plain": [
       "<Figure size 432x288 with 1 Axes>"
      ]
     },
     "metadata": {
      "needs_background": "light"
     },
     "output_type": "display_data"
    }
   ],
   "source": [
    "plt.imshow(cos_sim>cos_sim_threshold)"
   ]
  },
  {
   "cell_type": "code",
   "execution_count": 50,
   "id": "44d9c444-d7a7-4c3a-a50b-0c2fe26454f8",
   "metadata": {
    "tags": []
   },
   "outputs": [
    {
     "data": {
      "text/plain": [
       "3"
      ]
     },
     "execution_count": 50,
     "metadata": {},
     "output_type": "execute_result"
    }
   ],
   "source": [
    "count_unique_ones(cos_sim>cos_sim_threshold)"
   ]
  },
  {
   "cell_type": "code",
   "execution_count": 58,
   "id": "8591481f-f507-4236-9c03-f631bdfd89c0",
   "metadata": {
    "tags": []
   },
   "outputs": [
    {
     "data": {
      "text/plain": [
       "[<matplotlib.lines.Line2D at 0x7f809a0f8d90>]"
      ]
     },
     "execution_count": 58,
     "metadata": {},
     "output_type": "execute_result"
    },
    {
     "data": {
      "image/png": "[encoded data removed]",
      "text/plain": [
       "<Figure size 432x288 with 1 Axes>"
      ]
     },
     "metadata": {
      "needs_background": "light"
     },
     "output_type": "display_data"
    }
   ],
   "source": [
    "t = np.arange(0,1,0.005)\n",
    "k = []\n",
    "for i in t:\n",
    "    k.append(count_unique_ones(cos_sim>i))\n",
    "    \n",
    "plt.plot(t,k)"
   ]
  },
  {
   "cell_type": "markdown",
   "id": "f1e268a7-5616-49f0-9b11-38dd5b4a27a1",
   "metadata": {},
   "source": [
    "Method 3: Pearson correlation of autocorrelograms (50 ms window around zero time shift)"
   ]
  },
  {
   "cell_type": "code",
   "execution_count": 23,
   "id": "330474bf-45a4-45d0-8b0e-49afeb31d294",
   "metadata": {
    "tags": []
   },
   "outputs": [],
   "source": [
    "import sklearn.metrics.pairwise\n",
    "\n",
    "from scipy.stats import pearsonr\n",
    "\n",
    "def compute_acc_similarity(sorting1, sorting2, window_ms=100, bin_ms=2):\n",
    "    \n",
    "    corr1, _ = si.compute_correlograms(sorting1, window_ms=window_ms, bin_ms=bin_ms, method=\"numpy\")\n",
    "    ac1 = np.zeros((corr1.shape[0], corr1.shape[-1]))\n",
    "    for i in range(corr1.shape[0]):\n",
    "        ac1[i] = corr1[i,i,:]\n",
    "        \n",
    "    corr2, _ = si.compute_correlograms(sorting2, window_ms=window_ms, bin_ms=bin_ms, method=\"numpy\")\n",
    "    ac2 = np.zeros((corr2.shape[0], corr2.shape[-1]))\n",
    "    for i in range(corr2.shape[0]):\n",
    "        ac2[i] = corr2[i,i,:]\n",
    "        \n",
    "    output = np.zeros((sorting1.get_num_units(), sorting2.get_num_units()))\n",
    "    for i in range(ac1.shape[0]):\n",
    "        for j in range(ac2.shape[0]):\n",
    "            k, _ = pearsonr(ac1[i], ac2[j])\n",
    "            output[i,j]=k\n",
    "    return output"
   ]
  },
  {
   "cell_type": "code",
   "execution_count": 24,
   "id": "13a929b5-c2a9-4ddb-9e0a-928ca82a4ec8",
   "metadata": {
    "tags": []
   },
   "outputs": [],
   "source": [
    "ac_sim = compute_acc_similarity(sorting1, sorting2)    "
   ]
  },
  {
   "cell_type": "code",
   "execution_count": 53,
   "id": "7f53c8cc-ed2e-4811-bf78-d14ef81f5fcf",
   "metadata": {
    "tags": []
   },
   "outputs": [],
   "source": [
    "ac_threshold = 0.95"
   ]
  },
  {
   "cell_type": "code",
   "execution_count": 25,
   "id": "360f04f3-dde0-4aec-9b50-f60947a07cb9",
   "metadata": {
    "tags": []
   },
   "outputs": [
    {
     "data": {
      "text/plain": [
       "<matplotlib.image.AxesImage at 0x7f812056c7c0>"
      ]
     },
     "execution_count": 25,
     "metadata": {},
     "output_type": "execute_result"
    },
    {
     "data": {
      "image/png": "[encoded data removed]",
      "text/plain": [
       "<Figure size 432x288 with 1 Axes>"
      ]
     },
     "metadata": {
      "needs_background": "light"
     },
     "output_type": "display_data"
    }
   ],
   "source": [
    "plt.imshow(ac_sim)"
   ]
  },
  {
   "cell_type": "code",
   "execution_count": 54,
   "id": "732d95a1-8dd7-49b1-9534-a4ae590c302c",
   "metadata": {
    "tags": []
   },
   "outputs": [
    {
     "data": {
      "text/plain": [
       "<matplotlib.image.AxesImage at 0x7f809a2e2f10>"
      ]
     },
     "execution_count": 54,
     "metadata": {},
     "output_type": "execute_result"
    },
    {
     "data": {
      "image/png": "[encoded data removed]",
      "text/plain": [
       "<Figure size 432x288 with 1 Axes>"
      ]
     },
     "metadata": {
      "needs_background": "light"
     },
     "output_type": "display_data"
    }
   ],
   "source": [
    "plt.imshow(ac_sim>ac_threshold\n",
    "          )"
   ]
  },
  {
   "cell_type": "code",
   "execution_count": 55,
   "id": "2f46d2e9-18c9-4c84-8f52-2aebf0f77bfa",
   "metadata": {
    "tags": []
   },
   "outputs": [
    {
     "data": {
      "text/plain": [
       "[<matplotlib.lines.Line2D at 0x7f809a25b280>]"
      ]
     },
     "execution_count": 55,
     "metadata": {},
     "output_type": "execute_result"
    },
    {
     "data": {
      "image/png": "[encoded data removed]",
      "text/plain": [
       "<Figure size 432x288 with 1 Axes>"
      ]
     },
     "metadata": {
      "needs_background": "light"
     },
     "output_type": "display_data"
    }
   ],
   "source": [
    "t = np.arange(0,1,0.01)\n",
    "k = []\n",
    "for i in t:\n",
    "    k.append(count_unique_ones(ac_sim>i))\n",
    "    \n",
    "plt.plot(t,k)"
   ]
  },
  {
   "cell_type": "markdown",
   "id": "17f31ebd-4fbe-4a31-b575-3c965fa5466a",
   "metadata": {},
   "source": [
    "Combine"
   ]
  },
  {
   "cell_type": "code",
   "execution_count": 27,
   "id": "92b86b5e-a50c-4b2d-9953-84a93a6796ef",
   "metadata": {
    "tags": []
   },
   "outputs": [
    {
     "ename": "NameError",
     "evalue": "name 'contamination' is not defined",
     "output_type": "error",
     "traceback": [
      "\u001b[0;31m---------------------------------------------------------------------------\u001b[0m",
      "\u001b[0;31mNameError\u001b[0m                                 Traceback (most recent call last)",
      "Cell \u001b[0;32mIn[27], line 1\u001b[0m\n\u001b[0;32m----> 1\u001b[0m plt\u001b[38;5;241m.\u001b[39mimshow((\u001b[43mcontamination\u001b[49m\u001b[38;5;241m>\u001b[39m\u001b[38;5;241m0.2\u001b[39m) \u001b[38;5;241m*\u001b[39m (cos_sim\u001b[38;5;241m>\u001b[39m\u001b[38;5;241m0.95\u001b[39m))\n",
      "\u001b[0;31mNameError\u001b[0m: name 'contamination' is not defined"
     ]
    }
   ],
   "source": [
    "plt.imshow((contamination>0.2) * (cos_sim>0.95))"
   ]
  },
  {
   "cell_type": "code",
   "execution_count": null,
   "id": "b5af4c27-d38b-42af-8370-bb81f0f9c4e9",
   "metadata": {
    "tags": []
   },
   "outputs": [],
   "source": [
    "count_unique_ones((contamination>0.2) * (cos_sim>0.95))"
   ]
  },
  {
   "cell_type": "code",
   "execution_count": null,
   "id": "846777e0-9a63-4053-a6cc-370df13ff7c8",
   "metadata": {
    "tags": []
   },
   "outputs": [],
   "source": [
    "plt.imshow((contamination>0.1) * (cos_sim>0.9) * (ac_sim>0.9))"
   ]
  },
  {
   "cell_type": "code",
   "execution_count": null,
   "id": "c3bc1a82-0469-455e-8bf3-1497209c287e",
   "metadata": {},
   "outputs": [],
   "source": []
  }
 ],
 "metadata": {
  "kernelspec": {
   "display_name": "Python 3 (ipykernel)",
   "language": "python",
   "name": "python3"
  },
  "language_info": {
   "codemirror_mode": {
    "name": "ipython",
    "version": 3
   },
   "file_extension": ".py",
   "mimetype": "text/x-python",
   "name": "python",
   "nbconvert_exporter": "python",
   "pygments_lexer": "ipython3",
   "version": "3.9.13"
  }
 },
 "nbformat": 4,
 "nbformat_minor": 5
}
