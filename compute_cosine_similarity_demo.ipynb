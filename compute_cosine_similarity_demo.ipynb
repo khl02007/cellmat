{
 "cells": [
  {
   "cell_type": "code",
   "execution_count": 1,
   "id": "cb999108-b1bd-48d7-b58b-6be25dbf6dda",
   "metadata": {
    "tags": []
   },
   "outputs": [],
   "source": [
    "import spikeinterface.full as si"
   ]
  },
  {
   "cell_type": "code",
   "execution_count": 2,
   "id": "ce7389de-cea3-4a9f-bfdc-2e9eb9ad947f",
   "metadata": {
    "tags": []
   },
   "outputs": [
    {
     "name": "stderr",
     "output_type": "stream",
     "text": [
      "[2023-06-06 16:21:53,595][INFO]: Connecting kyu@lmf-db.cin.ucsf.edu:3306\n",
      "[2023-06-06 16:21:53,638][INFO]: Connected kyu@lmf-db.cin.ucsf.edu:3306\n"
     ]
    }
   ],
   "source": [
    "import spyglass.spikesorting as sgs"
   ]
  },
  {
   "cell_type": "markdown",
   "id": "39d11653-156e-4406-8c50-46fae21b451e",
   "metadata": {},
   "source": [
    "helper functions"
   ]
  },
  {
   "cell_type": "code",
   "execution_count": 9,
   "id": "7879cfec-3fcf-4e1f-9c2e-442fef6c797d",
   "metadata": {
    "tags": []
   },
   "outputs": [],
   "source": [
    "import json\n",
    "import numpy as np\n",
    "\n",
    "def get_recording(nwb_file_name, shank_id):\n",
    "    recording_path = (sgs.SpikeSortingRecording & {\"nwb_file_name\":nwb_file_name,\n",
    "                                                   \"sort_group_id\":shank_id}).fetch(\"recording_path\")[0]\n",
    "    recording = si.load_extractor(recording_path)\n",
    "    if recording.get_num_segments()>1:\n",
    "        recording = si.concatenate_recordings([recording])\n",
    "    return recording\n",
    "\n",
    "def get_sorting(nwb_file_name, shank_id):\n",
    "    sorting_path = (sgs.SpikeSorting & {\"nwb_file_name\":nwb_file_name,\n",
    "                                        \"sort_group_id\":shank_id}).fetch(\"sorting_path\")[0]\n",
    "    sorting = si.load_extractor(sorting_path)\n",
    "\n",
    "    return sorting\n",
    "\n",
    "def open_json(path):\n",
    "    with open(path, 'r') as f:\n",
    "        c = json.load(f)\n",
    "    return c\n",
    "\n",
    "def get_curation_labels(nwb_file_name, shank_id, path_to_sorting_curation_repo):\n",
    "    curation_uri = (sgs.CurationFigurl & {\"nwb_file_name\": nwb_file_name,\n",
    "                                          \"sort_group_id\":shank_id}).fetch(\"new_curation_uri\")[0]\n",
    "    local_path = curation_uri.replace('gh://LorenFrankLab/sorting-curations/main/', path_to_sorting_curation_repo)\n",
    "    curation_labels = open_json(local_path)\n",
    "    return curation_labels\n",
    "\n",
    "\n",
    "def get_units_to_remove(curation_labels):\n",
    "    exclude_labels = ['noise', 'reject', 'mua']\n",
    "    units_to_remove = []\n",
    "    for unit_id, labels in curation_labels['labelsByUnit'].items():\n",
    "        if np.sum([i in exclude_labels for i in labels])>0:\n",
    "            units_to_remove.append(int(unit_id))\n",
    "    return units_to_remove\n",
    "\n",
    "def curate_sorting(sorting, curation_labels, skip_merge=True):\n",
    "    if curation_labels['labelsByUnit']:\n",
    "        units_to_remove = get_units_to_remove(curation_labels)\n",
    "        sorting = sorting.remove_units(units_to_remove)\n",
    "    if curation_labels['mergeGroups'] and skip_merge==False:\n",
    "        sorting = si.MergeUnitsSorting(parent_sorting=sorting,\n",
    "                                       units_to_merge=curation_labels['mergeGroups'],\n",
    "                                      )\n",
    "    return sorting"
   ]
  },
  {
   "cell_type": "markdown",
   "id": "f2486195-1e60-4e4f-9eac-29f250aab51c",
   "metadata": {},
   "source": [
    "Define NWB file names"
   ]
  },
  {
   "cell_type": "code",
   "execution_count": 4,
   "id": "bbbf42d8-0876-4813-ae3b-3bffb75d08dc",
   "metadata": {
    "tags": []
   },
   "outputs": [],
   "source": [
    "nwb_file_name1 = \"L520230417_.nwb\"\n",
    "nwb_file_name2 = \"L520230420_.nwb\"\n",
    "\n",
    "shank_id = 0"
   ]
  },
  {
   "cell_type": "markdown",
   "id": "59367e3d-ff62-4a50-9b54-eb2f3ae96781",
   "metadata": {},
   "source": [
    "Load recording"
   ]
  },
  {
   "cell_type": "code",
   "execution_count": 5,
   "id": "fff066b7-eadf-4630-8324-0eda04a9bb5f",
   "metadata": {
    "tags": []
   },
   "outputs": [],
   "source": [
    "recording1 = get_recording(nwb_file_name1, shank_id)\n",
    "recording2 = get_recording(nwb_file_name2, shank_id)"
   ]
  },
  {
   "cell_type": "markdown",
   "id": "bc4fb7e4-bea1-4506-981c-00b051d7822a",
   "metadata": {},
   "source": [
    "Load sorting"
   ]
  },
  {
   "cell_type": "code",
   "execution_count": 6,
   "id": "b4b235b7-6ff2-4be0-b17b-8158edd9ace1",
   "metadata": {
    "tags": []
   },
   "outputs": [],
   "source": [
    "sorting1 = get_sorting(nwb_file_name1, shank_id)\n",
    "sorting2 = get_sorting(nwb_file_name2, shank_id)"
   ]
  },
  {
   "cell_type": "markdown",
   "id": "868aae6d-2a71-448d-8de6-d6826da639e8",
   "metadata": {},
   "source": [
    "get manual curation labels"
   ]
  },
  {
   "cell_type": "code",
   "execution_count": 11,
   "id": "161035e1-cc78-4a78-ac1d-d8104be86ce5",
   "metadata": {
    "tags": []
   },
   "outputs": [
    {
     "name": "stdout",
     "output_type": "stream",
     "text": [
      "remote: Enumerating objects: 17, done.\u001b[K\n",
      "remote: Counting objects: 100% (17/17), done.\u001b[K\n",
      "remote: Compressing objects: 100% (10/10), done.\u001b[K\n",
      "remote: Total 12 (delta 7), reused 0 (delta 0), pack-reused 0\u001b[K\n",
      "Unpacking objects: 100% (12/12), 993 bytes | 43.00 KiB/s, done.\n",
      "From https://github.com/LorenFrankLab/sorting-curations\n",
      " * branch            main       -> FETCH_HEAD\n",
      "   c50b37b..7e6fff1  main       -> origin/main\n",
      "Updating c50b37b..7e6fff1\n",
      "Fast-forward\n",
      " khl02007/L520230522_.nwb_02_r1/0/curation.json | 2 \u001b[32m+\u001b[m\u001b[31m-\u001b[m\n",
      " 1 file changed, 1 insertion(+), 1 deletion(-)\n"
     ]
    }
   ],
   "source": [
    "# change this to path on your system\n",
    "!cd ~/repos/sorting-curations && git pull origin main\n",
    "path_to_sorting_curation_repo = '/home/kyu/repos/sorting-curations/'"
   ]
  },
  {
   "cell_type": "code",
   "execution_count": 12,
   "id": "819ce914-1051-4c21-8034-9f8b073a5795",
   "metadata": {
    "tags": []
   },
   "outputs": [],
   "source": [
    "curation_labels1 = get_curation_labels(nwb_file_name1, shank_id, path_to_sorting_curation_repo)\n",
    "curation_labels2 = get_curation_labels(nwb_file_name2, shank_id, path_to_sorting_curation_repo)"
   ]
  },
  {
   "cell_type": "markdown",
   "id": "787df7d5-393e-4188-b56d-9f9819b6882a",
   "metadata": {},
   "source": [
    "Update the sorting-curations repo (make sure to change path)"
   ]
  },
  {
   "cell_type": "markdown",
   "id": "85c93c2c-4943-400b-8320-8c4a60f9d5a7",
   "metadata": {},
   "source": [
    "apply curation"
   ]
  },
  {
   "cell_type": "code",
   "execution_count": 13,
   "id": "2ffa265b-1916-45f1-8d65-8dd44e3e67c7",
   "metadata": {
    "tags": []
   },
   "outputs": [],
   "source": [
    "sorting1 = curate_sorting(sorting1, curation_labels1)\n",
    "sorting2 = curate_sorting(sorting2, curation_labels2)"
   ]
  },
  {
   "cell_type": "markdown",
   "id": "94d46b75-9ad6-4ab8-9f4f-7c593283fbbf",
   "metadata": {},
   "source": [
    "extract waveforms"
   ]
  },
  {
   "cell_type": "code",
   "execution_count": 14,
   "id": "91f7fde4-e805-4c74-a17c-c4c71b8b2cbc",
   "metadata": {
    "tags": []
   },
   "outputs": [
    {
     "data": {
      "application/vnd.jupyter.widget-view+json": {
       "model_id": "f2525b9b5c354d72bee735099471903c",
       "version_major": 2,
       "version_minor": 0
      },
      "text/plain": [
       "extract waveforms memmap:   0%|          | 0/2450 [00:00<?, ?it/s]"
      ]
     },
     "metadata": {},
     "output_type": "display_data"
    }
   ],
   "source": [
    "waveform_extractor1 = si.extract_waveforms(recording1, sorting1, folder=\"/tmp/we1\",\n",
    "                                           ms_before=1.0, ms_after=1.0,\n",
    "                                           max_spikes_per_unit=5000,\n",
    "                                           overwrite=True,\n",
    "                                           seed=47\n",
    "                                          )"
   ]
  },
  {
   "cell_type": "code",
   "execution_count": 15,
   "id": "70a65cb3-c52e-42f3-ab4d-a84fe9baabfd",
   "metadata": {
    "tags": []
   },
   "outputs": [
    {
     "data": {
      "application/vnd.jupyter.widget-view+json": {
       "model_id": "b86b1c2ff10648d08bd24a55b65a574e",
       "version_major": 2,
       "version_minor": 0
      },
      "text/plain": [
       "extract waveforms memmap:   0%|          | 0/1203 [00:00<?, ?it/s]"
      ]
     },
     "metadata": {},
     "output_type": "display_data"
    }
   ],
   "source": [
    "waveform_extractor2 = si.extract_waveforms(recording2, sorting2, folder=\"/tmp/we2\",\n",
    "                                           ms_before=1.0, ms_after=1.0,\n",
    "                                           max_spikes_per_unit=5000,\n",
    "                                           overwrite=True,\n",
    "                                           seed=47\n",
    "                                          )"
   ]
  },
  {
   "cell_type": "code",
   "execution_count": 16,
   "id": "74caed6e-2a9c-41ed-a30d-c779d87d626b",
   "metadata": {
    "tags": []
   },
   "outputs": [],
   "source": [
    "import sklearn.metrics.pairwise\n",
    "\n",
    "templates = waveform_extractor1.get_all_templates()\n",
    "s = templates.shape\n",
    "templates_flat = templates.reshape(s[0], -1)\n",
    "\n",
    "templates_other = waveform_extractor2.get_all_templates()\n",
    "s_other = templates_other.shape\n",
    "templates_other_flat = templates_other.reshape(s_other[0], -1)\n",
    "\n",
    "similarity = sklearn.metrics.pairwise.cosine_similarity(templates_flat, templates_other_flat)\n"
   ]
  },
  {
   "cell_type": "code",
   "execution_count": 17,
   "id": "06f71496-9bd0-491a-aebe-09fe37d275d9",
   "metadata": {
    "tags": []
   },
   "outputs": [],
   "source": [
    "import matplotlib.pyplot as plt"
   ]
  },
  {
   "cell_type": "code",
   "execution_count": 18,
   "id": "e6248975-d3f9-4273-8072-337e057642d5",
   "metadata": {
    "tags": []
   },
   "outputs": [
    {
     "data": {
      "text/plain": [
       "<matplotlib.image.AxesImage at 0x7f9ad8b99670>"
      ]
     },
     "execution_count": 18,
     "metadata": {},
     "output_type": "execute_result"
    },
    {
     "data": {
      "image/png": "[encoded data removed]",
      "text/plain": [
       "<Figure size 432x288 with 1 Axes>"
      ]
     },
     "metadata": {
      "needs_background": "light"
     },
     "output_type": "display_data"
    }
   ],
   "source": [
    "plt.imshow(similarity)"
   ]
  },
  {
   "cell_type": "code",
   "execution_count": 19,
   "id": "ce40e5aa-591e-4035-af4f-ef7ebdafa860",
   "metadata": {
    "tags": []
   },
   "outputs": [
    {
     "data": {
      "text/plain": [
       "<matplotlib.image.AxesImage at 0x7f9ad8a55f70>"
      ]
     },
     "execution_count": 19,
     "metadata": {},
     "output_type": "execute_result"
    },
    {
     "data": {
      "image/png": "[encoded data removed]",
      "text/plain": [
       "<Figure size 432x288 with 1 Axes>"
      ]
     },
     "metadata": {
      "needs_background": "light"
     },
     "output_type": "display_data"
    }
   ],
   "source": [
    "plt.imshow(similarity>0.9)"
   ]
  },
  {
   "cell_type": "code",
   "execution_count": null,
   "id": "c812c300-9c7b-4a3a-adf7-1d586dde153b",
   "metadata": {},
   "outputs": [],
   "source": []
  },
  {
   "cell_type": "code",
   "execution_count": null,
   "id": "245c7bb4-afb5-4e80-b30e-254768efc0e9",
   "metadata": {},
   "outputs": [],
   "source": []
  },
  {
   "cell_type": "code",
   "execution_count": null,
   "id": "f654b806-1026-45bf-a7e2-b6c79eedf49b",
   "metadata": {},
   "outputs": [],
   "source": []
  },
  {
   "cell_type": "code",
   "execution_count": 20,
   "id": "e472274b-89d3-4385-abe9-29148d7eafbd",
   "metadata": {
    "tags": []
   },
   "outputs": [],
   "source": [
    "agreement_scores = si.compute_template_similarity(waveform_extractor1,\n",
    "                                                  waveform_extractor_other=waveform_extractor2,\n",
    "                                                  )"
   ]
  },
  {
   "cell_type": "code",
   "execution_count": 21,
   "id": "fa580b2c-0b53-4dad-b1b5-cc2207765800",
   "metadata": {
    "tags": []
   },
   "outputs": [],
   "source": [
    "import matplotlib.pyplot as plt"
   ]
  },
  {
   "cell_type": "code",
   "execution_count": 22,
   "id": "ab5ded33-4914-4423-be36-8b55ef58a773",
   "metadata": {
    "tags": []
   },
   "outputs": [
    {
     "data": {
      "text/plain": [
       "<matplotlib.image.AxesImage at 0x7f9ad89d2550>"
      ]
     },
     "execution_count": 22,
     "metadata": {},
     "output_type": "execute_result"
    },
    {
     "data": {
      "image/png": "[encoded data removed]",
      "text/plain": [
       "<Figure size 432x288 with 1 Axes>"
      ]
     },
     "metadata": {
      "needs_background": "light"
     },
     "output_type": "display_data"
    }
   ],
   "source": [
    "plt.imshow(agreement_scores)"
   ]
  },
  {
   "cell_type": "code",
   "execution_count": 23,
   "id": "4224c588-a094-4047-9f0c-d4ef593b5f93",
   "metadata": {
    "tags": []
   },
   "outputs": [
    {
     "data": {
      "text/plain": [
       "<matplotlib.image.AxesImage at 0x7f9ad89b4820>"
      ]
     },
     "execution_count": 23,
     "metadata": {},
     "output_type": "execute_result"
    },
    {
     "data": {
      "image/png": "[encoded data removed]",
      "text/plain": [
       "<Figure size 432x288 with 1 Axes>"
      ]
     },
     "metadata": {
      "needs_background": "light"
     },
     "output_type": "display_data"
    }
   ],
   "source": [
    "plt.imshow(agreement_scores>0.95)"
   ]
  },
  {
   "cell_type": "code",
   "execution_count": 24,
   "id": "abb1f10d-2b94-42f2-9cb2-62b7cc7f8010",
   "metadata": {
    "tags": []
   },
   "outputs": [
    {
     "name": "stdout",
     "output_type": "stream",
     "text": [
      "Agreement scores...\n"
     ]
    },
    {
     "ename": "ValueError",
     "evalue": "Shape of passed values is (9, 9), indices imply (9, 8)",
     "output_type": "error",
     "traceback": [
      "\u001b[0;31m---------------------------------------------------------------------------\u001b[0m",
      "\u001b[0;31mValueError\u001b[0m                                Traceback (most recent call last)",
      "Cell \u001b[0;32mIn[24], line 1\u001b[0m\n\u001b[0;32m----> 1\u001b[0m comp \u001b[38;5;241m=\u001b[39m \u001b[43msi\u001b[49m\u001b[38;5;241;43m.\u001b[39;49m\u001b[43mcompare_templates\u001b[49m\u001b[43m(\u001b[49m\u001b[43mwaveform_extractor1\u001b[49m\u001b[43m,\u001b[49m\u001b[43m \u001b[49m\u001b[43mwaveform_extractor2\u001b[49m\u001b[43m,\u001b[49m\n\u001b[1;32m      2\u001b[0m \u001b[43m                            \u001b[49m\u001b[43mwe1_name\u001b[49m\u001b[38;5;241;43m=\u001b[39;49m\u001b[43mnwb_file_name1\u001b[49m\u001b[43m,\u001b[49m\u001b[43m \u001b[49m\u001b[43mwe2_name\u001b[49m\u001b[38;5;241;43m=\u001b[39;49m\u001b[43mnwb_file_name2\u001b[49m\u001b[43m,\u001b[49m\n\u001b[1;32m      3\u001b[0m \u001b[43m                            \u001b[49m\u001b[43mverbose\u001b[49m\u001b[38;5;241;43m=\u001b[39;49m\u001b[38;5;28;43;01mTrue\u001b[39;49;00m\u001b[43m)\u001b[49m\n",
      "File \u001b[0;32m~/repos/spikeinterface/src/spikeinterface/comparison/paircomparisons.py:765\u001b[0m, in \u001b[0;36mTemplateComparison.__init__\u001b[0;34m(self, we1, we2, we1_name, we2_name, unit_ids1, unit_ids2, match_score, chance_score, similarity_method, sparsity_dict, verbose)\u001b[0m\n\u001b[1;32m    762\u001b[0m \u001b[38;5;28;01melse\u001b[39;00m:\n\u001b[1;32m    763\u001b[0m     \u001b[38;5;28mself\u001b[39m\u001b[38;5;241m.\u001b[39msparsity \u001b[38;5;241m=\u001b[39m \u001b[38;5;28;01mNone\u001b[39;00m\n\u001b[0;32m--> 765\u001b[0m \u001b[38;5;28;43mself\u001b[39;49m\u001b[38;5;241;43m.\u001b[39;49m\u001b[43m_do_agreement\u001b[49m\u001b[43m(\u001b[49m\u001b[43m)\u001b[49m\n\u001b[1;32m    766\u001b[0m \u001b[38;5;28mself\u001b[39m\u001b[38;5;241m.\u001b[39m_do_matching()\n",
      "File \u001b[0;32m~/repos/spikeinterface/src/spikeinterface/comparison/paircomparisons.py:775\u001b[0m, in \u001b[0;36mTemplateComparison._do_agreement\u001b[0;34m(self)\u001b[0m\n\u001b[1;32m    772\u001b[0m agreement_scores \u001b[38;5;241m=\u001b[39m compute_template_similarity(\u001b[38;5;28mself\u001b[39m\u001b[38;5;241m.\u001b[39mwe1, \u001b[38;5;28mself\u001b[39m\u001b[38;5;241m.\u001b[39mwe2, method\u001b[38;5;241m=\u001b[39m\u001b[38;5;28mself\u001b[39m\u001b[38;5;241m.\u001b[39msimilarity_method)\n\u001b[1;32m    773\u001b[0m \u001b[38;5;28;01mimport\u001b[39;00m \u001b[38;5;21;01mpandas\u001b[39;00m \u001b[38;5;28;01mas\u001b[39;00m \u001b[38;5;21;01mpd\u001b[39;00m\n\u001b[0;32m--> 775\u001b[0m \u001b[38;5;28mself\u001b[39m\u001b[38;5;241m.\u001b[39magreement_scores \u001b[38;5;241m=\u001b[39m \u001b[43mpd\u001b[49m\u001b[38;5;241;43m.\u001b[39;49m\u001b[43mDataFrame\u001b[49m\u001b[43m(\u001b[49m\u001b[43magreement_scores\u001b[49m\u001b[43m,\u001b[49m\u001b[43m \u001b[49m\u001b[43mindex\u001b[49m\u001b[38;5;241;43m=\u001b[39;49m\u001b[38;5;28;43mself\u001b[39;49m\u001b[38;5;241;43m.\u001b[39;49m\u001b[43munit_ids\u001b[49m\u001b[43m[\u001b[49m\u001b[38;5;241;43m0\u001b[39;49m\u001b[43m]\u001b[49m\u001b[43m,\u001b[49m\u001b[43m \u001b[49m\u001b[43mcolumns\u001b[49m\u001b[38;5;241;43m=\u001b[39;49m\u001b[38;5;28;43mself\u001b[39;49m\u001b[38;5;241;43m.\u001b[39;49m\u001b[43munit_ids\u001b[49m\u001b[43m[\u001b[49m\u001b[38;5;241;43m1\u001b[39;49m\u001b[43m]\u001b[49m\u001b[43m)\u001b[49m\n",
      "File \u001b[0;32m~/miniconda3/envs/spyglass/lib/python3.9/site-packages/pandas/core/frame.py:694\u001b[0m, in \u001b[0;36mDataFrame.__init__\u001b[0;34m(self, data, index, columns, dtype, copy)\u001b[0m\n\u001b[1;32m    684\u001b[0m         mgr \u001b[38;5;241m=\u001b[39m dict_to_mgr(\n\u001b[1;32m    685\u001b[0m             \u001b[38;5;66;03m# error: Item \"ndarray\" of \"Union[ndarray, Series, Index]\" has no\u001b[39;00m\n\u001b[1;32m    686\u001b[0m             \u001b[38;5;66;03m# attribute \"name\"\u001b[39;00m\n\u001b[0;32m   (...)\u001b[0m\n\u001b[1;32m    691\u001b[0m             typ\u001b[38;5;241m=\u001b[39mmanager,\n\u001b[1;32m    692\u001b[0m         )\n\u001b[1;32m    693\u001b[0m     \u001b[38;5;28;01melse\u001b[39;00m:\n\u001b[0;32m--> 694\u001b[0m         mgr \u001b[38;5;241m=\u001b[39m \u001b[43mndarray_to_mgr\u001b[49m\u001b[43m(\u001b[49m\n\u001b[1;32m    695\u001b[0m \u001b[43m            \u001b[49m\u001b[43mdata\u001b[49m\u001b[43m,\u001b[49m\n\u001b[1;32m    696\u001b[0m \u001b[43m            \u001b[49m\u001b[43mindex\u001b[49m\u001b[43m,\u001b[49m\n\u001b[1;32m    697\u001b[0m \u001b[43m            \u001b[49m\u001b[43mcolumns\u001b[49m\u001b[43m,\u001b[49m\n\u001b[1;32m    698\u001b[0m \u001b[43m            \u001b[49m\u001b[43mdtype\u001b[49m\u001b[38;5;241;43m=\u001b[39;49m\u001b[43mdtype\u001b[49m\u001b[43m,\u001b[49m\n\u001b[1;32m    699\u001b[0m \u001b[43m            \u001b[49m\u001b[43mcopy\u001b[49m\u001b[38;5;241;43m=\u001b[39;49m\u001b[43mcopy\u001b[49m\u001b[43m,\u001b[49m\n\u001b[1;32m    700\u001b[0m \u001b[43m            \u001b[49m\u001b[43mtyp\u001b[49m\u001b[38;5;241;43m=\u001b[39;49m\u001b[43mmanager\u001b[49m\u001b[43m,\u001b[49m\n\u001b[1;32m    701\u001b[0m \u001b[43m        \u001b[49m\u001b[43m)\u001b[49m\n\u001b[1;32m    703\u001b[0m \u001b[38;5;66;03m# For data is list-like, or Iterable (will consume into list)\u001b[39;00m\n\u001b[1;32m    704\u001b[0m \u001b[38;5;28;01melif\u001b[39;00m is_list_like(data):\n",
      "File \u001b[0;32m~/miniconda3/envs/spyglass/lib/python3.9/site-packages/pandas/core/internals/construction.py:351\u001b[0m, in \u001b[0;36mndarray_to_mgr\u001b[0;34m(values, index, columns, dtype, copy, typ)\u001b[0m\n\u001b[1;32m    346\u001b[0m \u001b[38;5;66;03m# _prep_ndarray ensures that values.ndim == 2 at this point\u001b[39;00m\n\u001b[1;32m    347\u001b[0m index, columns \u001b[38;5;241m=\u001b[39m _get_axes(\n\u001b[1;32m    348\u001b[0m     values\u001b[38;5;241m.\u001b[39mshape[\u001b[38;5;241m0\u001b[39m], values\u001b[38;5;241m.\u001b[39mshape[\u001b[38;5;241m1\u001b[39m], index\u001b[38;5;241m=\u001b[39mindex, columns\u001b[38;5;241m=\u001b[39mcolumns\n\u001b[1;32m    349\u001b[0m )\n\u001b[0;32m--> 351\u001b[0m \u001b[43m_check_values_indices_shape_match\u001b[49m\u001b[43m(\u001b[49m\u001b[43mvalues\u001b[49m\u001b[43m,\u001b[49m\u001b[43m \u001b[49m\u001b[43mindex\u001b[49m\u001b[43m,\u001b[49m\u001b[43m \u001b[49m\u001b[43mcolumns\u001b[49m\u001b[43m)\u001b[49m\n\u001b[1;32m    353\u001b[0m \u001b[38;5;28;01mif\u001b[39;00m typ \u001b[38;5;241m==\u001b[39m \u001b[38;5;124m\"\u001b[39m\u001b[38;5;124marray\u001b[39m\u001b[38;5;124m\"\u001b[39m:\n\u001b[1;32m    355\u001b[0m     \u001b[38;5;28;01mif\u001b[39;00m \u001b[38;5;28missubclass\u001b[39m(values\u001b[38;5;241m.\u001b[39mdtype\u001b[38;5;241m.\u001b[39mtype, \u001b[38;5;28mstr\u001b[39m):\n",
      "File \u001b[0;32m~/miniconda3/envs/spyglass/lib/python3.9/site-packages/pandas/core/internals/construction.py:422\u001b[0m, in \u001b[0;36m_check_values_indices_shape_match\u001b[0;34m(values, index, columns)\u001b[0m\n\u001b[1;32m    420\u001b[0m passed \u001b[38;5;241m=\u001b[39m values\u001b[38;5;241m.\u001b[39mshape\n\u001b[1;32m    421\u001b[0m implied \u001b[38;5;241m=\u001b[39m (\u001b[38;5;28mlen\u001b[39m(index), \u001b[38;5;28mlen\u001b[39m(columns))\n\u001b[0;32m--> 422\u001b[0m \u001b[38;5;28;01mraise\u001b[39;00m \u001b[38;5;167;01mValueError\u001b[39;00m(\u001b[38;5;124mf\u001b[39m\u001b[38;5;124m\"\u001b[39m\u001b[38;5;124mShape of passed values is \u001b[39m\u001b[38;5;132;01m{\u001b[39;00mpassed\u001b[38;5;132;01m}\u001b[39;00m\u001b[38;5;124m, indices imply \u001b[39m\u001b[38;5;132;01m{\u001b[39;00mimplied\u001b[38;5;132;01m}\u001b[39;00m\u001b[38;5;124m\"\u001b[39m)\n",
      "\u001b[0;31mValueError\u001b[0m: Shape of passed values is (9, 9), indices imply (9, 8)"
     ]
    }
   ],
   "source": [
    "comp = si.compare_templates(waveform_extractor1, waveform_extractor2,\n",
    "                            we1_name=nwb_file_name1, we2_name=nwb_file_name2,\n",
    "                            verbose=True)"
   ]
  }
 ],
 "metadata": {
  "kernelspec": {
   "display_name": "Python 3 (ipykernel)",
   "language": "python",
   "name": "python3"
  },
  "language_info": {
   "codemirror_mode": {
    "name": "ipython",
    "version": 3
   },
   "file_extension": ".py",
   "mimetype": "text/x-python",
   "name": "python",
   "nbconvert_exporter": "python",
   "pygments_lexer": "ipython3",
   "version": "3.9.13"
  }
 },
 "nbformat": 4,
 "nbformat_minor": 5
}
